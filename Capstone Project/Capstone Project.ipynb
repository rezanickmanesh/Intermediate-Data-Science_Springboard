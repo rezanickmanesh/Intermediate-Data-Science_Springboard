{
 "cells": [
  {
   "cell_type": "code",
   "execution_count": 1,
   "metadata": {
    "collapsed": true
   },
   "outputs": [],
   "source": [
    "#Import Pandas, Numpy, Matplotlib, and Seaborn packages \n",
    "import pandas as pd\n",
    "import numpy as np\n",
    "import matplotlib.pyplot as plt\n",
    "import seaborn as sns\n",
    "\n",
    "#Import nltk package (Natural Language Processing package)\n",
    "import nltk\n",
    "from nltk.tokenize import word_tokenize\n",
    "from nltk.corpus import stopwords\n",
    "\n",
    "#Import Vectorizer functions from sklearn \n",
    "from sklearn.feature_extraction.text import TfidfVectorizer\n",
    "from sklearn.feature_extraction.text import CountVectorizer\n",
    "\n",
    "#Import train_test_split for spliting the data into train/test \n",
    "from sklearn.model_selection import train_test_split\n",
    "\n",
    "\n",
    "#Import classifiers from sklearn package \n",
    "from sklearn.linear_model import LogisticRegression\n",
    "from sklearn.svm import SVC\n",
    "from sklearn.naive_bayes import MultinomialNB\n",
    "from sklearn.tree import DecisionTreeClassifier\n",
    "from sklearn.neighbors import KNeighborsClassifier\n",
    "from sklearn.ensemble import RandomForestClassifier\n",
    "from sklearn.ensemble import AdaBoostClassifier\n",
    "from sklearn.ensemble import BaggingClassifier\n",
    "\n",
    "#Import metrics from sklearn package for model evaluation \n",
    "from sklearn.metrics import accuracy_score\n",
    "from sklearn.metrics import f1_score\n",
    "from sklearn.metrics import precision_score\n",
    "from sklearn.metrics import recall_score\n",
    "\n",
    "#Import GridSearchCV for tuning hyperparameters for classifiers \n",
    "from sklearn.model_selection import GridSearchCV\n"
   ]
  },
  {
   "cell_type": "code",
   "execution_count": 2,
   "metadata": {
    "collapsed": true
   },
   "outputs": [],
   "source": [
    "df=pd.read_csv('C:\\Users\\Rezanick\\Desktop\\Projects\\Springboard\\Intermediate data science with python\\Capstone Project\\spam.csv')"
   ]
  },
  {
   "cell_type": "code",
   "execution_count": 3,
   "metadata": {},
   "outputs": [
    {
     "data": {
      "text/html": [
       "<div>\n",
       "<style>\n",
       "    .dataframe thead tr:only-child th {\n",
       "        text-align: right;\n",
       "    }\n",
       "\n",
       "    .dataframe thead th {\n",
       "        text-align: left;\n",
       "    }\n",
       "\n",
       "    .dataframe tbody tr th {\n",
       "        vertical-align: top;\n",
       "    }\n",
       "</style>\n",
       "<table border=\"1\" class=\"dataframe\">\n",
       "  <thead>\n",
       "    <tr style=\"text-align: right;\">\n",
       "      <th></th>\n",
       "      <th>v1</th>\n",
       "      <th>v2</th>\n",
       "      <th>Unnamed: 2</th>\n",
       "      <th>Unnamed: 3</th>\n",
       "      <th>Unnamed: 4</th>\n",
       "    </tr>\n",
       "  </thead>\n",
       "  <tbody>\n",
       "    <tr>\n",
       "      <th>0</th>\n",
       "      <td>ham</td>\n",
       "      <td>Go until jurong point, crazy.. Available only ...</td>\n",
       "      <td>NaN</td>\n",
       "      <td>NaN</td>\n",
       "      <td>NaN</td>\n",
       "    </tr>\n",
       "    <tr>\n",
       "      <th>1</th>\n",
       "      <td>ham</td>\n",
       "      <td>Ok lar... Joking wif u oni...</td>\n",
       "      <td>NaN</td>\n",
       "      <td>NaN</td>\n",
       "      <td>NaN</td>\n",
       "    </tr>\n",
       "    <tr>\n",
       "      <th>2</th>\n",
       "      <td>spam</td>\n",
       "      <td>Free entry in 2 a wkly comp to win FA Cup fina...</td>\n",
       "      <td>NaN</td>\n",
       "      <td>NaN</td>\n",
       "      <td>NaN</td>\n",
       "    </tr>\n",
       "    <tr>\n",
       "      <th>3</th>\n",
       "      <td>ham</td>\n",
       "      <td>U dun say so early hor... U c already then say...</td>\n",
       "      <td>NaN</td>\n",
       "      <td>NaN</td>\n",
       "      <td>NaN</td>\n",
       "    </tr>\n",
       "    <tr>\n",
       "      <th>4</th>\n",
       "      <td>ham</td>\n",
       "      <td>Nah I don't think he goes to usf, he lives aro...</td>\n",
       "      <td>NaN</td>\n",
       "      <td>NaN</td>\n",
       "      <td>NaN</td>\n",
       "    </tr>\n",
       "  </tbody>\n",
       "</table>\n",
       "</div>"
      ],
      "text/plain": [
       "     v1                                                 v2 Unnamed: 2  \\\n",
       "0   ham  Go until jurong point, crazy.. Available only ...        NaN   \n",
       "1   ham                      Ok lar... Joking wif u oni...        NaN   \n",
       "2  spam  Free entry in 2 a wkly comp to win FA Cup fina...        NaN   \n",
       "3   ham  U dun say so early hor... U c already then say...        NaN   \n",
       "4   ham  Nah I don't think he goes to usf, he lives aro...        NaN   \n",
       "\n",
       "  Unnamed: 3 Unnamed: 4  \n",
       "0        NaN        NaN  \n",
       "1        NaN        NaN  \n",
       "2        NaN        NaN  \n",
       "3        NaN        NaN  \n",
       "4        NaN        NaN  "
      ]
     },
     "execution_count": 3,
     "metadata": {},
     "output_type": "execute_result"
    }
   ],
   "source": [
    "df.head()"
   ]
  },
  {
   "cell_type": "code",
   "execution_count": 4,
   "metadata": {},
   "outputs": [
    {
     "name": "stdout",
     "output_type": "stream",
     "text": [
      "Index([u'v1', u'v2', u'Unnamed: 2', u'Unnamed: 3', u'Unnamed: 4'], dtype='object')\n",
      "RangeIndex(start=0, stop=5572, step=1)\n"
     ]
    }
   ],
   "source": [
    "print(df.columns)\n",
    "print(df.index)"
   ]
  },
  {
   "cell_type": "code",
   "execution_count": 5,
   "metadata": {
    "collapsed": true
   },
   "outputs": [],
   "source": [
    "df=df[['v1','v2']]\n",
    "df.columns=['Label','Text']"
   ]
  },
  {
   "cell_type": "code",
   "execution_count": 6,
   "metadata": {},
   "outputs": [
    {
     "data": {
      "text/html": [
       "<div>\n",
       "<style>\n",
       "    .dataframe thead tr:only-child th {\n",
       "        text-align: right;\n",
       "    }\n",
       "\n",
       "    .dataframe thead th {\n",
       "        text-align: left;\n",
       "    }\n",
       "\n",
       "    .dataframe tbody tr th {\n",
       "        vertical-align: top;\n",
       "    }\n",
       "</style>\n",
       "<table border=\"1\" class=\"dataframe\">\n",
       "  <thead>\n",
       "    <tr style=\"text-align: right;\">\n",
       "      <th></th>\n",
       "      <th>Label</th>\n",
       "      <th>Text</th>\n",
       "    </tr>\n",
       "  </thead>\n",
       "  <tbody>\n",
       "    <tr>\n",
       "      <th>0</th>\n",
       "      <td>ham</td>\n",
       "      <td>Go until jurong point, crazy.. Available only ...</td>\n",
       "    </tr>\n",
       "    <tr>\n",
       "      <th>1</th>\n",
       "      <td>ham</td>\n",
       "      <td>Ok lar... Joking wif u oni...</td>\n",
       "    </tr>\n",
       "    <tr>\n",
       "      <th>2</th>\n",
       "      <td>spam</td>\n",
       "      <td>Free entry in 2 a wkly comp to win FA Cup fina...</td>\n",
       "    </tr>\n",
       "    <tr>\n",
       "      <th>3</th>\n",
       "      <td>ham</td>\n",
       "      <td>U dun say so early hor... U c already then say...</td>\n",
       "    </tr>\n",
       "    <tr>\n",
       "      <th>4</th>\n",
       "      <td>ham</td>\n",
       "      <td>Nah I don't think he goes to usf, he lives aro...</td>\n",
       "    </tr>\n",
       "  </tbody>\n",
       "</table>\n",
       "</div>"
      ],
      "text/plain": [
       "  Label                                               Text\n",
       "0   ham  Go until jurong point, crazy.. Available only ...\n",
       "1   ham                      Ok lar... Joking wif u oni...\n",
       "2  spam  Free entry in 2 a wkly comp to win FA Cup fina...\n",
       "3   ham  U dun say so early hor... U c already then say...\n",
       "4   ham  Nah I don't think he goes to usf, he lives aro..."
      ]
     },
     "execution_count": 6,
     "metadata": {},
     "output_type": "execute_result"
    }
   ],
   "source": [
    "df.head()"
   ]
  },
  {
   "cell_type": "code",
   "execution_count": 7,
   "metadata": {},
   "outputs": [
    {
     "name": "stdout",
     "output_type": "stream",
     "text": [
      "       Text\n",
      "Label      \n",
      "ham    4825\n",
      "spam    747\n"
     ]
    }
   ],
   "source": [
    "print(df.groupby('Label').count())"
   ]
  },
  {
   "cell_type": "code",
   "execution_count": 8,
   "metadata": {
    "collapsed": true
   },
   "outputs": [],
   "source": [
    "df['Length']=df.loc[:,'Text'].apply(len)"
   ]
  },
  {
   "cell_type": "code",
   "execution_count": 9,
   "metadata": {},
   "outputs": [
    {
     "data": {
      "text/html": [
       "<div>\n",
       "<style>\n",
       "    .dataframe thead tr:only-child th {\n",
       "        text-align: right;\n",
       "    }\n",
       "\n",
       "    .dataframe thead th {\n",
       "        text-align: left;\n",
       "    }\n",
       "\n",
       "    .dataframe tbody tr th {\n",
       "        vertical-align: top;\n",
       "    }\n",
       "</style>\n",
       "<table border=\"1\" class=\"dataframe\">\n",
       "  <thead>\n",
       "    <tr style=\"text-align: right;\">\n",
       "      <th></th>\n",
       "      <th>Label</th>\n",
       "      <th>Text</th>\n",
       "      <th>Length</th>\n",
       "    </tr>\n",
       "  </thead>\n",
       "  <tbody>\n",
       "    <tr>\n",
       "      <th>0</th>\n",
       "      <td>ham</td>\n",
       "      <td>Go until jurong point, crazy.. Available only ...</td>\n",
       "      <td>111</td>\n",
       "    </tr>\n",
       "    <tr>\n",
       "      <th>1</th>\n",
       "      <td>ham</td>\n",
       "      <td>Ok lar... Joking wif u oni...</td>\n",
       "      <td>29</td>\n",
       "    </tr>\n",
       "    <tr>\n",
       "      <th>2</th>\n",
       "      <td>spam</td>\n",
       "      <td>Free entry in 2 a wkly comp to win FA Cup fina...</td>\n",
       "      <td>155</td>\n",
       "    </tr>\n",
       "    <tr>\n",
       "      <th>3</th>\n",
       "      <td>ham</td>\n",
       "      <td>U dun say so early hor... U c already then say...</td>\n",
       "      <td>49</td>\n",
       "    </tr>\n",
       "    <tr>\n",
       "      <th>4</th>\n",
       "      <td>ham</td>\n",
       "      <td>Nah I don't think he goes to usf, he lives aro...</td>\n",
       "      <td>61</td>\n",
       "    </tr>\n",
       "    <tr>\n",
       "      <th>5</th>\n",
       "      <td>spam</td>\n",
       "      <td>FreeMsg Hey there darling it's been 3 week's n...</td>\n",
       "      <td>148</td>\n",
       "    </tr>\n",
       "    <tr>\n",
       "      <th>6</th>\n",
       "      <td>ham</td>\n",
       "      <td>Even my brother is not like to speak with me. ...</td>\n",
       "      <td>77</td>\n",
       "    </tr>\n",
       "    <tr>\n",
       "      <th>7</th>\n",
       "      <td>ham</td>\n",
       "      <td>As per your request 'Melle Melle (Oru Minnamin...</td>\n",
       "      <td>160</td>\n",
       "    </tr>\n",
       "    <tr>\n",
       "      <th>8</th>\n",
       "      <td>spam</td>\n",
       "      <td>WINNER!! As a valued network customer you have...</td>\n",
       "      <td>158</td>\n",
       "    </tr>\n",
       "    <tr>\n",
       "      <th>9</th>\n",
       "      <td>spam</td>\n",
       "      <td>Had your mobile 11 months or more? U R entitle...</td>\n",
       "      <td>154</td>\n",
       "    </tr>\n",
       "  </tbody>\n",
       "</table>\n",
       "</div>"
      ],
      "text/plain": [
       "  Label                                               Text  Length\n",
       "0   ham  Go until jurong point, crazy.. Available only ...     111\n",
       "1   ham                      Ok lar... Joking wif u oni...      29\n",
       "2  spam  Free entry in 2 a wkly comp to win FA Cup fina...     155\n",
       "3   ham  U dun say so early hor... U c already then say...      49\n",
       "4   ham  Nah I don't think he goes to usf, he lives aro...      61\n",
       "5  spam  FreeMsg Hey there darling it's been 3 week's n...     148\n",
       "6   ham  Even my brother is not like to speak with me. ...      77\n",
       "7   ham  As per your request 'Melle Melle (Oru Minnamin...     160\n",
       "8  spam  WINNER!! As a valued network customer you have...     158\n",
       "9  spam  Had your mobile 11 months or more? U R entitle...     154"
      ]
     },
     "execution_count": 9,
     "metadata": {},
     "output_type": "execute_result"
    }
   ],
   "source": [
    "df.head(10)"
   ]
  },
  {
   "cell_type": "code",
   "execution_count": 10,
   "metadata": {},
   "outputs": [
    {
     "data": {
      "text/html": [
       "<div>\n",
       "<style>\n",
       "    .dataframe thead tr:only-child th {\n",
       "        text-align: right;\n",
       "    }\n",
       "\n",
       "    .dataframe thead th {\n",
       "        text-align: left;\n",
       "    }\n",
       "\n",
       "    .dataframe tbody tr th {\n",
       "        vertical-align: top;\n",
       "    }\n",
       "</style>\n",
       "<table border=\"1\" class=\"dataframe\">\n",
       "  <thead>\n",
       "    <tr>\n",
       "      <th></th>\n",
       "      <th colspan=\"8\" halign=\"left\">Length</th>\n",
       "    </tr>\n",
       "    <tr>\n",
       "      <th></th>\n",
       "      <th>count</th>\n",
       "      <th>mean</th>\n",
       "      <th>std</th>\n",
       "      <th>min</th>\n",
       "      <th>25%</th>\n",
       "      <th>50%</th>\n",
       "      <th>75%</th>\n",
       "      <th>max</th>\n",
       "    </tr>\n",
       "    <tr>\n",
       "      <th>Label</th>\n",
       "      <th></th>\n",
       "      <th></th>\n",
       "      <th></th>\n",
       "      <th></th>\n",
       "      <th></th>\n",
       "      <th></th>\n",
       "      <th></th>\n",
       "      <th></th>\n",
       "    </tr>\n",
       "  </thead>\n",
       "  <tbody>\n",
       "    <tr>\n",
       "      <th>ham</th>\n",
       "      <td>4825.0</td>\n",
       "      <td>71.023627</td>\n",
       "      <td>58.016023</td>\n",
       "      <td>2.0</td>\n",
       "      <td>33.0</td>\n",
       "      <td>52.0</td>\n",
       "      <td>92.0</td>\n",
       "      <td>910.0</td>\n",
       "    </tr>\n",
       "    <tr>\n",
       "      <th>spam</th>\n",
       "      <td>747.0</td>\n",
       "      <td>138.866131</td>\n",
       "      <td>29.183082</td>\n",
       "      <td>13.0</td>\n",
       "      <td>132.5</td>\n",
       "      <td>149.0</td>\n",
       "      <td>157.0</td>\n",
       "      <td>224.0</td>\n",
       "    </tr>\n",
       "  </tbody>\n",
       "</table>\n",
       "</div>"
      ],
      "text/plain": [
       "       Length                                                         \n",
       "        count        mean        std   min    25%    50%    75%    max\n",
       "Label                                                                 \n",
       "ham    4825.0   71.023627  58.016023   2.0   33.0   52.0   92.0  910.0\n",
       "spam    747.0  138.866131  29.183082  13.0  132.5  149.0  157.0  224.0"
      ]
     },
     "execution_count": 10,
     "metadata": {},
     "output_type": "execute_result"
    }
   ],
   "source": [
    "df.groupby('Label').describe()"
   ]
  },
  {
   "cell_type": "code",
   "execution_count": 11,
   "metadata": {},
   "outputs": [
    {
     "data": {
      "image/png": "[encoded data removed]",
      "text/plain": [
       "<matplotlib.figure.Figure at 0xdca84e0>"
      ]
     },
     "metadata": {},
     "output_type": "display_data"
    }
   ],
   "source": [
    "df['Length'][df['Label']=='ham'].plot(kind='hist', bins=100, range=[0,250], alpha=0.5, label='ham')\n",
    "df['Length'][df['Label']=='spam'].plot(kind='hist', bins=100, range=[0,250], alpha=0.5, label='spam')\n",
    "plt.xlabel('Text Length')\n",
    "plt.ylabel('Frequency')\n",
    "plt.legend()\n",
    "plt.show()"
   ]
  },
  {
   "cell_type": "code",
   "execution_count": 12,
   "metadata": {
    "collapsed": true
   },
   "outputs": [],
   "source": [
    "counter = CountVectorizer(analyzer='word', stop_words = 'english', decode_error = 'ignore',  max_features=5000)"
   ]
  },
  {
   "cell_type": "markdown",
   "metadata": {},
   "source": [
    "Below, we create the word frequency charts for spam/ham messages separately"
   ]
  },
  {
   "cell_type": "code",
   "execution_count": 13,
   "metadata": {},
   "outputs": [
    {
     "data": {
      "image/png": "[encoded data removed]",
      "text/plain": [
       "<matplotlib.figure.Figure at 0xebb3cc0>"
      ]
     },
     "metadata": {},
     "output_type": "display_data"
    }
   ],
   "source": [
    "spam=df[df['Label']=='spam']\n",
    "ham=df[df['Label']=='ham']\n",
    "\n",
    "spam_msg=spam['Text']\n",
    "spam_msg=spam_msg.tolist()\n",
    "\n",
    "ham_msg=ham['Text']\n",
    "ham_msg=ham_msg.tolist()\n",
    "\n",
    "#Implement CountVectorizer to tokenize spam and ham messages \n",
    "#Tokens are stored in words variable\n",
    "count=counter.fit(spam_msg)\n",
    "c=counter.transform(spam_msg)\n",
    "spam_words=count.get_feature_names()\n",
    "\n",
    "#c variable (vecotorized version of the text messages) is stored as sparse matrix. This object is converted to pandas df.\n",
    "\n",
    "c2=pd.DataFrame(c.todense())\n",
    "\n",
    "c2=np.array(c2)\n",
    "df_count=pd.DataFrame(c2.sum(axis=0))\n",
    "df_count.index=spam_words\n",
    "df_count.columns=['Count']\n",
    "df_count\n",
    "\n",
    "sorted_spam_word=df_count.sort_values(by='Count', ascending=False)\n",
    "sorted_spam_word.head(10)\n",
    "\n",
    "sorted_spam_word['Count'][0:30].plot(kind='bar')\n",
    "plt.xlabel('Most frequent spam words')\n",
    "plt.ylabel('Total count of the word')\n",
    "plt.show()"
   ]
  },
  {
   "cell_type": "code",
   "execution_count": 14,
   "metadata": {},
   "outputs": [
    {
     "data": {
      "text/html": [
       "<div>\n",
       "<style>\n",
       "    .dataframe thead tr:only-child th {\n",
       "        text-align: right;\n",
       "    }\n",
       "\n",
       "    .dataframe thead th {\n",
       "        text-align: left;\n",
       "    }\n",
       "\n",
       "    .dataframe tbody tr th {\n",
       "        vertical-align: top;\n",
       "    }\n",
       "</style>\n",
       "<table border=\"1\" class=\"dataframe\">\n",
       "  <thead>\n",
       "    <tr style=\"text-align: right;\">\n",
       "      <th></th>\n",
       "      <th>Count</th>\n",
       "    </tr>\n",
       "  </thead>\n",
       "  <tbody>\n",
       "    <tr>\n",
       "      <th>free</th>\n",
       "      <td>224</td>\n",
       "    </tr>\n",
       "    <tr>\n",
       "      <th>txt</th>\n",
       "      <td>163</td>\n",
       "    </tr>\n",
       "    <tr>\n",
       "      <th>ur</th>\n",
       "      <td>144</td>\n",
       "    </tr>\n",
       "    <tr>\n",
       "      <th>mobile</th>\n",
       "      <td>127</td>\n",
       "    </tr>\n",
       "    <tr>\n",
       "      <th>text</th>\n",
       "      <td>125</td>\n",
       "    </tr>\n",
       "    <tr>\n",
       "      <th>stop</th>\n",
       "      <td>121</td>\n",
       "    </tr>\n",
       "    <tr>\n",
       "      <th>claim</th>\n",
       "      <td>113</td>\n",
       "    </tr>\n",
       "    <tr>\n",
       "      <th>reply</th>\n",
       "      <td>104</td>\n",
       "    </tr>\n",
       "    <tr>\n",
       "      <th>www</th>\n",
       "      <td>98</td>\n",
       "    </tr>\n",
       "    <tr>\n",
       "      <th>prize</th>\n",
       "      <td>93</td>\n",
       "    </tr>\n",
       "  </tbody>\n",
       "</table>\n",
       "</div>"
      ],
      "text/plain": [
       "        Count\n",
       "free      224\n",
       "txt       163\n",
       "ur        144\n",
       "mobile    127\n",
       "text      125\n",
       "stop      121\n",
       "claim     113\n",
       "reply     104\n",
       "www        98\n",
       "prize      93"
      ]
     },
     "execution_count": 14,
     "metadata": {},
     "output_type": "execute_result"
    }
   ],
   "source": [
    "sorted_spam_word.head(10)"
   ]
  },
  {
   "cell_type": "code",
   "execution_count": 15,
   "metadata": {},
   "outputs": [
    {
     "data": {
      "image/png": "[encoded data removed]",
      "text/plain": [
       "<matplotlib.figure.Figure at 0xdf97128>"
      ]
     },
     "metadata": {},
     "output_type": "display_data"
    }
   ],
   "source": [
    "spam=df[df['Label']=='spam']\n",
    "ham=df[df['Label']=='ham']\n",
    "\n",
    "spam_msg=spam['Text']\n",
    "spam_msg=spam_msg.tolist()\n",
    "\n",
    "ham_msg=ham['Text']\n",
    "ham_msg=ham_msg.tolist()\n",
    "[x.lower() for x in ham_msg]\n",
    "#Implement CountVectorizer to tokenize spam and ham messages \n",
    "#Tokens are stored in words variable\n",
    "count=counter.fit(ham_msg)\n",
    "c=counter.transform(ham_msg)\n",
    "ham_words=count.get_feature_names()\n",
    "\n",
    "#c variable (vecotorized version of the text messages) is stored as sparse matrix. This object is converted to pandas df.\n",
    "\n",
    "c2=pd.DataFrame(c.todense())\n",
    "\n",
    "c2=np.array(c2)\n",
    "df_count=pd.DataFrame(c2.sum(axis=0))\n",
    "df_count.index=ham_words\n",
    "df_count.columns=['Count']\n",
    "df_count\n",
    "\n",
    "sorted_ham_word=df_count.sort_values(by='Count', ascending=False)\n",
    "sorted_ham_word.head(10)\n",
    "\n",
    "sorted_ham_word['Count'][0:30].plot(kind='bar')\n",
    "plt.xlabel('Most frequent ham words')\n",
    "plt.ylabel('Total count of the word')\n",
    "plt.show()"
   ]
  },
  {
   "cell_type": "markdown",
   "metadata": {},
   "source": [
    "tf-idf representation of the text messages "
   ]
  },
  {
   "cell_type": "code",
   "execution_count": 16,
   "metadata": {
    "collapsed": true
   },
   "outputs": [],
   "source": [
    "vect = TfidfVectorizer(decode_error = 'ignore', max_df= 0.8, max_features = 1000)\n",
    "tf_idf= vect.fit_transform(df['Text'])\n",
    "X=tf_idf.toarray()\n",
    "Y=df['Label']"
   ]
  },
  {
   "cell_type": "code",
   "execution_count": 17,
   "metadata": {
    "collapsed": true
   },
   "outputs": [],
   "source": [
    "X_train, X_test, Y_train, Y_test = train_test_split(X, Y, test_size=0.2, random_state=100)"
   ]
  },
  {
   "cell_type": "markdown",
   "metadata": {},
   "source": [
    "Hyperparameters Tuning "
   ]
  },
  {
   "cell_type": "code",
   "execution_count": 18,
   "metadata": {},
   "outputs": [
    {
     "name": "stdout",
     "output_type": "stream",
     "text": [
      "Tuned SVM Parameters: {'kernel': 'sigmoid', 'gamma': 0.78888888888888897}\n",
      "Best score is 0.98474310074\n"
     ]
    }
   ],
   "source": [
    "#SVM classifier hyperparameter tuning \n",
    "#Hyperparameters: Kernel and gamma \n",
    "\n",
    "parameters= { \"kernel\" : ['rbf','poly','sigmoid'],\n",
    "             \"gamma\" : np.linspace(0.05, 1, num=10)}\n",
    "\n",
    "# Instantiate a logistic regression classifier: logreg\n",
    "svc = SVC()\n",
    "\n",
    "# Instantiate the GridSearchCV object: logreg_cv\n",
    "svc_cv = GridSearchCV(svc, parameters, cv=5)\n",
    "\n",
    "# Fit it to the data\n",
    "svc_cv.fit(X_train, Y_train)\n",
    "\n",
    "# Print the tuned parameter and score\n",
    "print(\"Tuned SVM Parameters: {}\".format(svc_cv.best_params_))\n",
    "print(\"Best score is {}\".format(svc_cv.best_score_))"
   ]
  },
  {
   "cell_type": "code",
   "execution_count": 19,
   "metadata": {},
   "outputs": [
    {
     "name": "stdout",
     "output_type": "stream",
     "text": [
      "Tuned K-nearest neighbors Parameters: {'n_neighbors': 3}\n",
      "Best score is 0.91922818039\n"
     ]
    }
   ],
   "source": [
    "#K-Nearest Neighbors classifier hyperparameter tuning \n",
    "#Hyperparameters: Kernel and gamma \n",
    "\n",
    "parameters= { \"n_neighbors\" : range(3,25)}\n",
    "\n",
    "# Instantiate a KNN classifier: knc\n",
    "knc= KNeighborsClassifier()\n",
    "\n",
    "# Instantiate the GridSearchCV object: knc_cv\n",
    "knc_cv = GridSearchCV(knc, parameters, cv=5)\n",
    "\n",
    "# Fit it to the data\n",
    "knc_cv.fit(X_train, Y_train)\n",
    "\n",
    "# Print the tuned parameter and score\n",
    "print(\"Tuned K-nearest neighbors Parameters: {}\".format(knc_cv.best_params_))\n",
    "print(\"Best score is {}\".format(knc_cv.best_score_))"
   ]
  },
  {
   "cell_type": "code",
   "execution_count": 30,
   "metadata": {},
   "outputs": [
    {
     "name": "stdout",
     "output_type": "stream",
     "text": [
      "Tuned Multinomial Naive Bayes Parameters: {'alpha': 0.050000000000000003}\n",
      "Best score is 0.984518734575\n"
     ]
    }
   ],
   "source": [
    "#Multinomial Naive Bayes classifier hyperparameter tuning \n",
    "#Hyperparameters: alpha \n",
    "\n",
    "parameters= { \"alpha\" : np.linspace(0.05, 1, num=10)}\n",
    "\n",
    "# Instantiate a KNN classifier: mnb\n",
    "mnb= MultinomialNB()\n",
    "\n",
    "# Instantiate the GridSearchCV object: mnb_cv\n",
    "mnb_cv = GridSearchCV(mnb, parameters, cv=5)\n",
    "\n",
    "# Fit it to the data\n",
    "mnb_cv.fit(X_train,Y_train)\n",
    "\n",
    "# Print the tuned parameter and score\n",
    "print(\"Tuned Multinomial Naive Bayes Parameters: {}\".format(mnb_cv.best_params_))\n",
    "print(\"Best score is {}\".format(mnb_cv.best_score_))"
   ]
  },
  {
   "cell_type": "code",
   "execution_count": 24,
   "metadata": {},
   "outputs": [
    {
     "name": "stdout",
     "output_type": "stream",
     "text": [
      "Tuned Decision Tree Parameters: {'min_samples_split': 15}\n",
      "Best score is 0.966569441328\n"
     ]
    }
   ],
   "source": [
    "#Decision Tree classifier hyperparameter tuning \n",
    "#Hyperparameters: min_samples_split\n",
    "\n",
    "parameters= { \"min_samples_split\" : range(2,21)}\n",
    "\n",
    "# Instantiate a KNN classifier: dtc\n",
    "dtc= DecisionTreeClassifier()\n",
    "\n",
    "# Instantiate the GridSearchCV object: dtc_cv\n",
    "dtc_cv = GridSearchCV(dtc, parameters, cv=5)\n",
    "\n",
    "# Fit it to the data\n",
    "dtc_cv.fit(X_train, Y_train )\n",
    "\n",
    "# Print the tuned parameter and score\n",
    "print(\"Tuned Decision Tree Parameters: {}\".format(dtc_cv.best_params_))\n",
    "print(\"Best score is {}\".format(dtc_cv.best_score_))"
   ]
  },
  {
   "cell_type": "code",
   "execution_count": 26,
   "metadata": {},
   "outputs": [
    {
     "name": "stdout",
     "output_type": "stream",
     "text": [
      "Tuned Logistic Regression Parameters: {'solver': 'newton-cg'}\n",
      "Best score is 0.973524792461\n"
     ]
    }
   ],
   "source": [
    "#Logistic Regression classifier hyperparameter tuning \n",
    "#Hyperparameters: \n",
    "\n",
    "parameters= { \"solver\" : ['newton-cg', 'lbfgs', 'liblinear', 'sag']}\n",
    "\n",
    "# Instantiate a Logistic Regression classifier: lrc\n",
    "lrc= LogisticRegression()\n",
    "\n",
    "# Instantiate the GridSearchCV object: lrc_cv\n",
    "lrc_cv = GridSearchCV(lrc, parameters, cv=5)\n",
    "\n",
    "# Fit it to the data\n",
    "lrc_cv.fit(X_train, Y_train)\n",
    "\n",
    "# Print the tuned parameter and score\n",
    "print(\"Tuned Logistic Regression Parameters: {}\".format(lrc_cv.best_params_))\n",
    "print(\"Best score is {}\".format(lrc_cv.best_score_))"
   ]
  },
  {
   "cell_type": "code",
   "execution_count": 27,
   "metadata": {},
   "outputs": [
    {
     "name": "stdout",
     "output_type": "stream",
     "text": [
      "Tuned Random Forest Classifier Parameters: {'n_estimators': 27}\n",
      "Best score is 0.980255777429\n"
     ]
    }
   ],
   "source": [
    "#Random Forest classifier hyperparameter tuning \n",
    "#Hyperparameters: \n",
    "\n",
    "parameters= {\"n_estimators\" : range(2,36)}\n",
    "\n",
    "# Instantiate a Logistic Regression classifier: rfc\n",
    "rfc= RandomForestClassifier()\n",
    "\n",
    "# Instantiate the GridSearchCV object: rfc_cv\n",
    "rfc_cv = GridSearchCV(rfc, parameters, cv=5)\n",
    "\n",
    "# Fit it to the data\n",
    "rfc_cv.fit(X_train, Y_train)\n",
    "\n",
    "# Print the tuned parameter and score\n",
    "print(\"Tuned Random Forest Classifier Parameters: {}\".format(rfc_cv.best_params_))\n",
    "print(\"Best score is {}\".format(rfc_cv.best_score_))"
   ]
  },
  {
   "cell_type": "code",
   "execution_count": 29,
   "metadata": {},
   "outputs": [
    {
     "name": "stdout",
     "output_type": "stream",
     "text": [
      "Tuned Bagging Classifier Parameters: {'n_estimators': 19}\n",
      "Best score is 0.957370428539\n"
     ]
    }
   ],
   "source": [
    "#AdaBoost classifier hyperparameter tuning \n",
    "#Hyperparameters: \n",
    "\n",
    "parameters= {\"n_estimators\" : range(2,21)}\n",
    "\n",
    "# Instantiate a Logistic Regression classifier: rfc\n",
    "abc= AdaBoostClassifier()\n",
    "\n",
    "# Instantiate the GridSearchCV object: rfc_cv\n",
    "abc_cv = GridSearchCV(abc, parameters, cv=5)\n",
    "\n",
    "# Fit it to the data\n",
    "abc_cv.fit(X_train, Y_train)\n",
    "\n",
    "# Print the tuned parameter and score\n",
    "print(\"Tuned Bagging Classifier Parameters: {}\".format(abc_cv.best_params_))\n",
    "print(\"Best score is {}\".format(abc_cv.best_score_))"
   ]
  },
  {
   "cell_type": "code",
   "execution_count": 28,
   "metadata": {},
   "outputs": [
    {
     "name": "stdout",
     "output_type": "stream",
     "text": [
      "Tuned Bagging Classifier Parameters: {'n_estimators': 16}\n",
      "Best score is 0.971954229302\n"
     ]
    }
   ],
   "source": [
    "#Bagging classifier hyperparameter tuning \n",
    "#Hyperparameters: \n",
    "\n",
    "parameters= {\"n_estimators\" : range(2,21)}\n",
    "\n",
    "# Instantiate a Logistic Regression classifier: rfc\n",
    "bc= BaggingClassifier()\n",
    "\n",
    "# Instantiate the GridSearchCV object: rfc_cv\n",
    "bc_cv = GridSearchCV(bc, parameters, cv=5)\n",
    "\n",
    "# Fit it to the data\n",
    "bc_cv.fit(X_train, Y_train)\n",
    "\n",
    "# Print the tuned parameter and score\n",
    "print(\"Tuned Bagging Classifier Parameters: {}\".format(bc_cv.best_params_))\n",
    "print(\"Best score is {}\".format(bc_cv.best_score_))"
   ]
  },
  {
   "cell_type": "code",
   "execution_count": 35,
   "metadata": {
    "collapsed": true
   },
   "outputs": [],
   "source": [
    "svc = SVC(kernel='sigmoid', gamma=0.78)\n",
    "knc = KNeighborsClassifier(n_neighbors=3)\n",
    "mnb = MultinomialNB(alpha=0.05)\n",
    "dtc = DecisionTreeClassifier(min_samples_split=15, random_state=100)\n",
    "lrc = LogisticRegression(solver='newton-cg', penalty='l2')\n",
    "rfc = RandomForestClassifier(n_estimators=27, random_state=100)\n",
    "abc = AdaBoostClassifier(n_estimators=19, random_state=100)\n",
    "bc = BaggingClassifier(n_estimators=16, random_state=100)"
   ]
  },
  {
   "cell_type": "code",
   "execution_count": 36,
   "metadata": {
    "collapsed": true
   },
   "outputs": [],
   "source": [
    "clfs = {'SVC' : svc,'KN' : knc, 'NB': mnb, 'DT': dtc, 'LR': lrc, 'RF': rfc, 'AdaBoost': abc, 'BgC': bc}"
   ]
  },
  {
   "cell_type": "code",
   "execution_count": 37,
   "metadata": {
    "collapsed": true
   },
   "outputs": [],
   "source": [
    "def train_classifier(clf, feature_train, labels_train):    \n",
    "    clf.fit(feature_train, labels_train)\n",
    "    \n",
    "def predict_labels(clf, features):\n",
    "    return (clf.predict(features))"
   ]
  },
  {
   "cell_type": "code",
   "execution_count": 38,
   "metadata": {},
   "outputs": [],
   "source": [
    "pred_scores = []\n",
    "for k,v in clfs.items():\n",
    "    train_classifier(v, X_train, Y_train)\n",
    "    pred = predict_labels(v,X_test)\n",
    "    pred_scores.append((k, accuracy_score(Y_test,pred),precision_score(Y_test, pred, pos_label='spam'), f1_score(Y_test, pred, pos_label='spam'), recall_score(Y_test, pred, pos_label='spam')))"
   ]
  },
  {
   "cell_type": "code",
   "execution_count": 39,
   "metadata": {},
   "outputs": [
    {
     "data": {
      "text/html": [
       "<div>\n",
       "<style>\n",
       "    .dataframe thead tr:only-child th {\n",
       "        text-align: right;\n",
       "    }\n",
       "\n",
       "    .dataframe thead th {\n",
       "        text-align: left;\n",
       "    }\n",
       "\n",
       "    .dataframe tbody tr th {\n",
       "        vertical-align: top;\n",
       "    }\n",
       "</style>\n",
       "<table border=\"1\" class=\"dataframe\">\n",
       "  <thead>\n",
       "    <tr style=\"text-align: right;\">\n",
       "      <th></th>\n",
       "      <th>Accuracy</th>\n",
       "      <th>Precision</th>\n",
       "      <th>f1</th>\n",
       "      <th>recall</th>\n",
       "    </tr>\n",
       "    <tr>\n",
       "      <th>Method</th>\n",
       "      <th></th>\n",
       "      <th></th>\n",
       "      <th></th>\n",
       "      <th></th>\n",
       "    </tr>\n",
       "  </thead>\n",
       "  <tbody>\n",
       "    <tr>\n",
       "      <th>RF</th>\n",
       "      <td>0.984753</td>\n",
       "      <td>0.992308</td>\n",
       "      <td>0.938182</td>\n",
       "      <td>0.889655</td>\n",
       "    </tr>\n",
       "    <tr>\n",
       "      <th>BgC</th>\n",
       "      <td>0.969507</td>\n",
       "      <td>0.888112</td>\n",
       "      <td>0.881944</td>\n",
       "      <td>0.875862</td>\n",
       "    </tr>\n",
       "    <tr>\n",
       "      <th>LR</th>\n",
       "      <td>0.978475</td>\n",
       "      <td>0.991870</td>\n",
       "      <td>0.910448</td>\n",
       "      <td>0.841379</td>\n",
       "    </tr>\n",
       "    <tr>\n",
       "      <th>AdaBoost</th>\n",
       "      <td>0.959641</td>\n",
       "      <td>0.931034</td>\n",
       "      <td>0.827586</td>\n",
       "      <td>0.744828</td>\n",
       "    </tr>\n",
       "    <tr>\n",
       "      <th>NB</th>\n",
       "      <td>0.983857</td>\n",
       "      <td>0.963504</td>\n",
       "      <td>0.936170</td>\n",
       "      <td>0.910345</td>\n",
       "    </tr>\n",
       "    <tr>\n",
       "      <th>SVC</th>\n",
       "      <td>0.986547</td>\n",
       "      <td>0.977941</td>\n",
       "      <td>0.946619</td>\n",
       "      <td>0.917241</td>\n",
       "    </tr>\n",
       "    <tr>\n",
       "      <th>DT</th>\n",
       "      <td>0.963229</td>\n",
       "      <td>0.842105</td>\n",
       "      <td>0.861953</td>\n",
       "      <td>0.882759</td>\n",
       "    </tr>\n",
       "    <tr>\n",
       "      <th>KN</th>\n",
       "      <td>0.945291</td>\n",
       "      <td>0.988372</td>\n",
       "      <td>0.735931</td>\n",
       "      <td>0.586207</td>\n",
       "    </tr>\n",
       "  </tbody>\n",
       "</table>\n",
       "</div>"
      ],
      "text/plain": [
       "          Accuracy  Precision        f1    recall\n",
       "Method                                           \n",
       "RF        0.984753   0.992308  0.938182  0.889655\n",
       "BgC       0.969507   0.888112  0.881944  0.875862\n",
       "LR        0.978475   0.991870  0.910448  0.841379\n",
       "AdaBoost  0.959641   0.931034  0.827586  0.744828\n",
       "NB        0.983857   0.963504  0.936170  0.910345\n",
       "SVC       0.986547   0.977941  0.946619  0.917241\n",
       "DT        0.963229   0.842105  0.861953  0.882759\n",
       "KN        0.945291   0.988372  0.735931  0.586207"
      ]
     },
     "execution_count": 39,
     "metadata": {},
     "output_type": "execute_result"
    }
   ],
   "source": [
    "df = pd.DataFrame(pred_scores, columns=['Method','Accuracy','Precision', 'f1', 'recall'])\n",
    "df.set_index('Method')"
   ]
  },
  {
   "cell_type": "code",
   "execution_count": 40,
   "metadata": {},
   "outputs": [
    {
     "data": {
      "text/html": [
       "<div>\n",
       "<style>\n",
       "    .dataframe thead tr:only-child th {\n",
       "        text-align: right;\n",
       "    }\n",
       "\n",
       "    .dataframe thead th {\n",
       "        text-align: left;\n",
       "    }\n",
       "\n",
       "    .dataframe tbody tr th {\n",
       "        vertical-align: top;\n",
       "    }\n",
       "</style>\n",
       "<table border=\"1\" class=\"dataframe\">\n",
       "  <thead>\n",
       "    <tr style=\"text-align: right;\">\n",
       "      <th></th>\n",
       "      <th>Accuracy</th>\n",
       "      <th>Precision</th>\n",
       "      <th>f1</th>\n",
       "      <th>recall</th>\n",
       "    </tr>\n",
       "    <tr>\n",
       "      <th>Method</th>\n",
       "      <th></th>\n",
       "      <th></th>\n",
       "      <th></th>\n",
       "      <th></th>\n",
       "    </tr>\n",
       "  </thead>\n",
       "  <tbody>\n",
       "    <tr>\n",
       "      <th>RF</th>\n",
       "      <td>0.984753</td>\n",
       "      <td>0.992308</td>\n",
       "      <td>0.938182</td>\n",
       "      <td>0.889655</td>\n",
       "    </tr>\n",
       "    <tr>\n",
       "      <th>BgC</th>\n",
       "      <td>0.969507</td>\n",
       "      <td>0.888112</td>\n",
       "      <td>0.881944</td>\n",
       "      <td>0.875862</td>\n",
       "    </tr>\n",
       "    <tr>\n",
       "      <th>LR</th>\n",
       "      <td>0.978475</td>\n",
       "      <td>0.991870</td>\n",
       "      <td>0.910448</td>\n",
       "      <td>0.841379</td>\n",
       "    </tr>\n",
       "    <tr>\n",
       "      <th>AdaBoost</th>\n",
       "      <td>0.959641</td>\n",
       "      <td>0.931034</td>\n",
       "      <td>0.827586</td>\n",
       "      <td>0.744828</td>\n",
       "    </tr>\n",
       "    <tr>\n",
       "      <th>NB</th>\n",
       "      <td>0.983857</td>\n",
       "      <td>0.963504</td>\n",
       "      <td>0.936170</td>\n",
       "      <td>0.910345</td>\n",
       "    </tr>\n",
       "    <tr>\n",
       "      <th>SVC</th>\n",
       "      <td>0.986547</td>\n",
       "      <td>0.977941</td>\n",
       "      <td>0.946619</td>\n",
       "      <td>0.917241</td>\n",
       "    </tr>\n",
       "    <tr>\n",
       "      <th>DT</th>\n",
       "      <td>0.963229</td>\n",
       "      <td>0.842105</td>\n",
       "      <td>0.861953</td>\n",
       "      <td>0.882759</td>\n",
       "    </tr>\n",
       "    <tr>\n",
       "      <th>KN</th>\n",
       "      <td>0.945291</td>\n",
       "      <td>0.988372</td>\n",
       "      <td>0.735931</td>\n",
       "      <td>0.586207</td>\n",
       "    </tr>\n",
       "  </tbody>\n",
       "</table>\n",
       "</div>"
      ],
      "text/plain": [
       "          Accuracy  Precision        f1    recall\n",
       "Method                                           \n",
       "RF        0.984753   0.992308  0.938182  0.889655\n",
       "BgC       0.969507   0.888112  0.881944  0.875862\n",
       "LR        0.978475   0.991870  0.910448  0.841379\n",
       "AdaBoost  0.959641   0.931034  0.827586  0.744828\n",
       "NB        0.983857   0.963504  0.936170  0.910345\n",
       "SVC       0.986547   0.977941  0.946619  0.917241\n",
       "DT        0.963229   0.842105  0.861953  0.882759\n",
       "KN        0.945291   0.988372  0.735931  0.586207"
      ]
     },
     "execution_count": 40,
     "metadata": {},
     "output_type": "execute_result"
    }
   ],
   "source": [
    "df.sort_values('Accuracy', ascending=False)\n",
    "df.set_index('Method')"
   ]
  },
  {
   "cell_type": "code",
   "execution_count": 41,
   "metadata": {},
   "outputs": [
    {
     "data": {
      "image/png": "[encoded data removed]",
      "text/plain": [
       "<matplotlib.figure.Figure at 0xf0ba940>"
      ]
     },
     "metadata": {},
     "output_type": "display_data"
    }
   ],
   "source": [
    "df.plot(kind='bar', x='Method', y='Accuracy', legend=False)\n",
    "plt.ylabel('Classification Accuracy')\n",
    "plt.show()"
   ]
  }
 ],
 "metadata": {
  "kernelspec": {
   "display_name": "Python 2",
   "language": "python",
   "name": "python2"
  },
  "language_info": {
   "codemirror_mode": {
    "name": "ipython",
    "version": 2
   },
   "file_extension": ".py",
   "mimetype": "text/x-python",
   "name": "python",
   "nbconvert_exporter": "python",
   "pygments_lexer": "ipython2",
   "version": "2.7.14"
  }
 },
 "nbformat": 4,
 "nbformat_minor": 2
}
